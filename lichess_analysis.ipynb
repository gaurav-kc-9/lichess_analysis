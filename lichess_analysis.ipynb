{
 "cells": [
  {
   "cell_type": "code",
   "execution_count": 1,
   "id": "3f8feeae",
   "metadata": {},
   "outputs": [],
   "source": [
    "import numpy as np\n",
    "import pandas as pd\n",
    "import matplotlib.pylab as plt\n",
    "import seaborn as sns\n",
    "\n",
    "plt.style.use('bmh')"
   ]
  },
  {
   "cell_type": "markdown",
   "id": "450bf2e0",
   "metadata": {},
   "source": [
    "Reading the csv file into a dataframe \"dataSet\" Also, let's try to get a view on the dataframe so formed"
   ]
  },
  {
   "cell_type": "code",
   "execution_count": 2,
   "id": "69c5eb4f",
   "metadata": {},
   "outputs": [
    {
     "data": {
      "text/html": [
       "<div>\n",
       "<style scoped>\n",
       "    .dataframe tbody tr th:only-of-type {\n",
       "        vertical-align: middle;\n",
       "    }\n",
       "\n",
       "    .dataframe tbody tr th {\n",
       "        vertical-align: top;\n",
       "    }\n",
       "\n",
       "    .dataframe thead th {\n",
       "        text-align: right;\n",
       "    }\n",
       "</style>\n",
       "<table border=\"1\" class=\"dataframe\">\n",
       "  <thead>\n",
       "    <tr style=\"text-align: right;\">\n",
       "      <th></th>\n",
       "      <th>id</th>\n",
       "      <th>rated</th>\n",
       "      <th>created_at</th>\n",
       "      <th>last_move_at</th>\n",
       "      <th>turns</th>\n",
       "      <th>victory_status</th>\n",
       "      <th>winner</th>\n",
       "      <th>increment_code</th>\n",
       "      <th>white_id</th>\n",
       "      <th>white_rating</th>\n",
       "      <th>black_id</th>\n",
       "      <th>black_rating</th>\n",
       "      <th>moves</th>\n",
       "      <th>opening_eco</th>\n",
       "      <th>opening_name</th>\n",
       "      <th>opening_ply</th>\n",
       "    </tr>\n",
       "  </thead>\n",
       "  <tbody>\n",
       "    <tr>\n",
       "      <th>0</th>\n",
       "      <td>TZJHLljE</td>\n",
       "      <td>False</td>\n",
       "      <td>1.504210e+12</td>\n",
       "      <td>1.504210e+12</td>\n",
       "      <td>13</td>\n",
       "      <td>outoftime</td>\n",
       "      <td>white</td>\n",
       "      <td>15+2</td>\n",
       "      <td>bourgris</td>\n",
       "      <td>1500</td>\n",
       "      <td>a-00</td>\n",
       "      <td>1191</td>\n",
       "      <td>d4 d5 c4 c6 cxd5 e6 dxe6 fxe6 Nf3 Bb4+ Nc3 Ba5...</td>\n",
       "      <td>D10</td>\n",
       "      <td>Slav Defense: Exchange Variation</td>\n",
       "      <td>5</td>\n",
       "    </tr>\n",
       "    <tr>\n",
       "      <th>1</th>\n",
       "      <td>l1NXvwaE</td>\n",
       "      <td>True</td>\n",
       "      <td>1.504130e+12</td>\n",
       "      <td>1.504130e+12</td>\n",
       "      <td>16</td>\n",
       "      <td>resign</td>\n",
       "      <td>black</td>\n",
       "      <td>5+10</td>\n",
       "      <td>a-00</td>\n",
       "      <td>1322</td>\n",
       "      <td>skinnerua</td>\n",
       "      <td>1261</td>\n",
       "      <td>d4 Nc6 e4 e5 f4 f6 dxe5 fxe5 fxe5 Nxe5 Qd4 Nc6...</td>\n",
       "      <td>B00</td>\n",
       "      <td>Nimzowitsch Defense: Kennedy Variation</td>\n",
       "      <td>4</td>\n",
       "    </tr>\n",
       "    <tr>\n",
       "      <th>2</th>\n",
       "      <td>mIICvQHh</td>\n",
       "      <td>True</td>\n",
       "      <td>1.504130e+12</td>\n",
       "      <td>1.504130e+12</td>\n",
       "      <td>61</td>\n",
       "      <td>mate</td>\n",
       "      <td>white</td>\n",
       "      <td>5+10</td>\n",
       "      <td>ischia</td>\n",
       "      <td>1496</td>\n",
       "      <td>a-00</td>\n",
       "      <td>1500</td>\n",
       "      <td>e4 e5 d3 d6 Be3 c6 Be2 b5 Nd2 a5 a4 c5 axb5 Nc...</td>\n",
       "      <td>C20</td>\n",
       "      <td>King's Pawn Game: Leonardis Variation</td>\n",
       "      <td>3</td>\n",
       "    </tr>\n",
       "    <tr>\n",
       "      <th>3</th>\n",
       "      <td>kWKvrqYL</td>\n",
       "      <td>True</td>\n",
       "      <td>1.504110e+12</td>\n",
       "      <td>1.504110e+12</td>\n",
       "      <td>61</td>\n",
       "      <td>mate</td>\n",
       "      <td>white</td>\n",
       "      <td>20+0</td>\n",
       "      <td>daniamurashov</td>\n",
       "      <td>1439</td>\n",
       "      <td>adivanov2009</td>\n",
       "      <td>1454</td>\n",
       "      <td>d4 d5 Nf3 Bf5 Nc3 Nf6 Bf4 Ng4 e3 Nc6 Be2 Qd7 O...</td>\n",
       "      <td>D02</td>\n",
       "      <td>Queen's Pawn Game: Zukertort Variation</td>\n",
       "      <td>3</td>\n",
       "    </tr>\n",
       "    <tr>\n",
       "      <th>4</th>\n",
       "      <td>9tXo1AUZ</td>\n",
       "      <td>True</td>\n",
       "      <td>1.504030e+12</td>\n",
       "      <td>1.504030e+12</td>\n",
       "      <td>95</td>\n",
       "      <td>mate</td>\n",
       "      <td>white</td>\n",
       "      <td>30+3</td>\n",
       "      <td>nik221107</td>\n",
       "      <td>1523</td>\n",
       "      <td>adivanov2009</td>\n",
       "      <td>1469</td>\n",
       "      <td>e4 e5 Nf3 d6 d4 Nc6 d5 Nb4 a3 Na6 Nc3 Be7 b4 N...</td>\n",
       "      <td>C41</td>\n",
       "      <td>Philidor Defense</td>\n",
       "      <td>5</td>\n",
       "    </tr>\n",
       "  </tbody>\n",
       "</table>\n",
       "</div>"
      ],
      "text/plain": [
       "         id  rated    created_at  last_move_at  turns victory_status winner  \\\n",
       "0  TZJHLljE  False  1.504210e+12  1.504210e+12     13      outoftime  white   \n",
       "1  l1NXvwaE   True  1.504130e+12  1.504130e+12     16         resign  black   \n",
       "2  mIICvQHh   True  1.504130e+12  1.504130e+12     61           mate  white   \n",
       "3  kWKvrqYL   True  1.504110e+12  1.504110e+12     61           mate  white   \n",
       "4  9tXo1AUZ   True  1.504030e+12  1.504030e+12     95           mate  white   \n",
       "\n",
       "  increment_code       white_id  white_rating      black_id  black_rating  \\\n",
       "0           15+2       bourgris          1500          a-00          1191   \n",
       "1           5+10           a-00          1322     skinnerua          1261   \n",
       "2           5+10         ischia          1496          a-00          1500   \n",
       "3           20+0  daniamurashov          1439  adivanov2009          1454   \n",
       "4           30+3      nik221107          1523  adivanov2009          1469   \n",
       "\n",
       "                                               moves opening_eco  \\\n",
       "0  d4 d5 c4 c6 cxd5 e6 dxe6 fxe6 Nf3 Bb4+ Nc3 Ba5...         D10   \n",
       "1  d4 Nc6 e4 e5 f4 f6 dxe5 fxe5 fxe5 Nxe5 Qd4 Nc6...         B00   \n",
       "2  e4 e5 d3 d6 Be3 c6 Be2 b5 Nd2 a5 a4 c5 axb5 Nc...         C20   \n",
       "3  d4 d5 Nf3 Bf5 Nc3 Nf6 Bf4 Ng4 e3 Nc6 Be2 Qd7 O...         D02   \n",
       "4  e4 e5 Nf3 d6 d4 Nc6 d5 Nb4 a3 Na6 Nc3 Be7 b4 N...         C41   \n",
       "\n",
       "                             opening_name  opening_ply  \n",
       "0        Slav Defense: Exchange Variation            5  \n",
       "1  Nimzowitsch Defense: Kennedy Variation            4  \n",
       "2   King's Pawn Game: Leonardis Variation            3  \n",
       "3  Queen's Pawn Game: Zukertort Variation            3  \n",
       "4                        Philidor Defense            5  "
      ]
     },
     "execution_count": 2,
     "metadata": {},
     "output_type": "execute_result"
    }
   ],
   "source": [
    "dataSet = pd.read_csv('./games.csv')\n",
    "dataSet.head()"
   ]
  },
  {
   "cell_type": "code",
   "execution_count": 3,
   "id": "480e1e63",
   "metadata": {},
   "outputs": [
    {
     "data": {
      "text/plain": [
       "(20058, 16)"
      ]
     },
     "execution_count": 3,
     "metadata": {},
     "output_type": "execute_result"
    }
   ],
   "source": [
    "dataSet.shape"
   ]
  },
  {
   "cell_type": "code",
   "execution_count": 4,
   "id": "1c34732d",
   "metadata": {},
   "outputs": [
    {
     "data": {
      "text/plain": [
       "Index(['id', 'rated', 'created_at', 'last_move_at', 'turns', 'victory_status',\n",
       "       'winner', 'increment_code', 'white_id', 'white_rating', 'black_id',\n",
       "       'black_rating', 'moves', 'opening_eco', 'opening_name', 'opening_ply'],\n",
       "      dtype='object')"
      ]
     },
     "execution_count": 4,
     "metadata": {},
     "output_type": "execute_result"
    }
   ],
   "source": [
    "dataSet.columns"
   ]
  },
  {
   "cell_type": "code",
   "execution_count": 5,
   "id": "4862bee0",
   "metadata": {},
   "outputs": [
    {
     "data": {
      "text/plain": [
       "id                0\n",
       "rated             0\n",
       "created_at        0\n",
       "last_move_at      0\n",
       "turns             0\n",
       "victory_status    0\n",
       "winner            0\n",
       "increment_code    0\n",
       "white_id          0\n",
       "white_rating      0\n",
       "black_id          0\n",
       "black_rating      0\n",
       "moves             0\n",
       "opening_eco       0\n",
       "opening_name      0\n",
       "opening_ply       0\n",
       "dtype: int64"
      ]
     },
     "execution_count": 5,
     "metadata": {},
     "output_type": "execute_result"
    }
   ],
   "source": [
    "dataSet.isna().sum()"
   ]
  },
  {
   "cell_type": "markdown",
   "id": "7dac3ecb",
   "metadata": {},
   "source": [
    "We see no null values in the dataSet, hence we can proceed further with the analysis Lets have a look into the data types of the columns of the dataframe"
   ]
  },
  {
   "cell_type": "code",
   "execution_count": 6,
   "id": "5d74ebc0",
   "metadata": {},
   "outputs": [
    {
     "data": {
      "text/plain": [
       "id                 object\n",
       "rated                bool\n",
       "created_at        float64\n",
       "last_move_at      float64\n",
       "turns               int64\n",
       "victory_status     object\n",
       "winner             object\n",
       "increment_code     object\n",
       "white_id           object\n",
       "white_rating        int64\n",
       "black_id           object\n",
       "black_rating        int64\n",
       "moves              object\n",
       "opening_eco        object\n",
       "opening_name       object\n",
       "opening_ply         int64\n",
       "dtype: object"
      ]
     },
     "execution_count": 6,
     "metadata": {},
     "output_type": "execute_result"
    }
   ],
   "source": [
    "dataSet.dtypes"
   ]
  },
  {
   "cell_type": "code",
   "execution_count": 7,
   "id": "1151ff3b",
   "metadata": {},
   "outputs": [
    {
     "data": {
      "text/plain": [
       "Index(['id', 'rated', 'created_at', 'last_move_at', 'turns', 'victory_status',\n",
       "       'winner', 'increment_code', 'white_id', 'white_rating', 'black_id',\n",
       "       'black_rating', 'moves', 'opening_eco', 'opening_name', 'opening_ply'],\n",
       "      dtype='object')"
      ]
     },
     "execution_count": 7,
     "metadata": {},
     "output_type": "execute_result"
    }
   ],
   "source": [
    "dataSet.columns"
   ]
  },
  {
   "cell_type": "markdown",
   "id": "d7d5b05d",
   "metadata": {},
   "source": [
    "Some columns in the dataframe don't appear relevant to me in this analysis, so let's remove them from the dataframe"
   ]
  },
  {
   "cell_type": "code",
   "execution_count": 8,
   "id": "6e9b367a",
   "metadata": {},
   "outputs": [],
   "source": [
    "dataSet = dataSet.drop(['id','created_at','last_move_at','white_id','black_id','moves','opening_eco'],axis = 1)"
   ]
  },
  {
   "cell_type": "code",
   "execution_count": 9,
   "id": "a6dfbde2",
   "metadata": {},
   "outputs": [
    {
     "data": {
      "text/html": [
       "<div>\n",
       "<style scoped>\n",
       "    .dataframe tbody tr th:only-of-type {\n",
       "        vertical-align: middle;\n",
       "    }\n",
       "\n",
       "    .dataframe tbody tr th {\n",
       "        vertical-align: top;\n",
       "    }\n",
       "\n",
       "    .dataframe thead th {\n",
       "        text-align: right;\n",
       "    }\n",
       "</style>\n",
       "<table border=\"1\" class=\"dataframe\">\n",
       "  <thead>\n",
       "    <tr style=\"text-align: right;\">\n",
       "      <th></th>\n",
       "      <th>rated</th>\n",
       "      <th>turns</th>\n",
       "      <th>victory_status</th>\n",
       "      <th>winner</th>\n",
       "      <th>increment_code</th>\n",
       "      <th>white_rating</th>\n",
       "      <th>black_rating</th>\n",
       "      <th>opening_name</th>\n",
       "      <th>opening_ply</th>\n",
       "    </tr>\n",
       "  </thead>\n",
       "  <tbody>\n",
       "    <tr>\n",
       "      <th>0</th>\n",
       "      <td>False</td>\n",
       "      <td>13</td>\n",
       "      <td>outoftime</td>\n",
       "      <td>white</td>\n",
       "      <td>15+2</td>\n",
       "      <td>1500</td>\n",
       "      <td>1191</td>\n",
       "      <td>Slav Defense: Exchange Variation</td>\n",
       "      <td>5</td>\n",
       "    </tr>\n",
       "    <tr>\n",
       "      <th>1</th>\n",
       "      <td>True</td>\n",
       "      <td>16</td>\n",
       "      <td>resign</td>\n",
       "      <td>black</td>\n",
       "      <td>5+10</td>\n",
       "      <td>1322</td>\n",
       "      <td>1261</td>\n",
       "      <td>Nimzowitsch Defense: Kennedy Variation</td>\n",
       "      <td>4</td>\n",
       "    </tr>\n",
       "    <tr>\n",
       "      <th>2</th>\n",
       "      <td>True</td>\n",
       "      <td>61</td>\n",
       "      <td>mate</td>\n",
       "      <td>white</td>\n",
       "      <td>5+10</td>\n",
       "      <td>1496</td>\n",
       "      <td>1500</td>\n",
       "      <td>King's Pawn Game: Leonardis Variation</td>\n",
       "      <td>3</td>\n",
       "    </tr>\n",
       "    <tr>\n",
       "      <th>3</th>\n",
       "      <td>True</td>\n",
       "      <td>61</td>\n",
       "      <td>mate</td>\n",
       "      <td>white</td>\n",
       "      <td>20+0</td>\n",
       "      <td>1439</td>\n",
       "      <td>1454</td>\n",
       "      <td>Queen's Pawn Game: Zukertort Variation</td>\n",
       "      <td>3</td>\n",
       "    </tr>\n",
       "    <tr>\n",
       "      <th>4</th>\n",
       "      <td>True</td>\n",
       "      <td>95</td>\n",
       "      <td>mate</td>\n",
       "      <td>white</td>\n",
       "      <td>30+3</td>\n",
       "      <td>1523</td>\n",
       "      <td>1469</td>\n",
       "      <td>Philidor Defense</td>\n",
       "      <td>5</td>\n",
       "    </tr>\n",
       "    <tr>\n",
       "      <th>...</th>\n",
       "      <td>...</td>\n",
       "      <td>...</td>\n",
       "      <td>...</td>\n",
       "      <td>...</td>\n",
       "      <td>...</td>\n",
       "      <td>...</td>\n",
       "      <td>...</td>\n",
       "      <td>...</td>\n",
       "      <td>...</td>\n",
       "    </tr>\n",
       "    <tr>\n",
       "      <th>20053</th>\n",
       "      <td>True</td>\n",
       "      <td>24</td>\n",
       "      <td>resign</td>\n",
       "      <td>white</td>\n",
       "      <td>10+10</td>\n",
       "      <td>1691</td>\n",
       "      <td>1220</td>\n",
       "      <td>Dutch Defense</td>\n",
       "      <td>2</td>\n",
       "    </tr>\n",
       "    <tr>\n",
       "      <th>20054</th>\n",
       "      <td>True</td>\n",
       "      <td>82</td>\n",
       "      <td>mate</td>\n",
       "      <td>black</td>\n",
       "      <td>10+0</td>\n",
       "      <td>1233</td>\n",
       "      <td>1196</td>\n",
       "      <td>Queen's Pawn</td>\n",
       "      <td>2</td>\n",
       "    </tr>\n",
       "    <tr>\n",
       "      <th>20055</th>\n",
       "      <td>True</td>\n",
       "      <td>35</td>\n",
       "      <td>mate</td>\n",
       "      <td>white</td>\n",
       "      <td>10+0</td>\n",
       "      <td>1219</td>\n",
       "      <td>1286</td>\n",
       "      <td>Queen's Pawn Game: Mason Attack</td>\n",
       "      <td>3</td>\n",
       "    </tr>\n",
       "    <tr>\n",
       "      <th>20056</th>\n",
       "      <td>True</td>\n",
       "      <td>109</td>\n",
       "      <td>resign</td>\n",
       "      <td>white</td>\n",
       "      <td>10+0</td>\n",
       "      <td>1360</td>\n",
       "      <td>1227</td>\n",
       "      <td>Pirc Defense</td>\n",
       "      <td>4</td>\n",
       "    </tr>\n",
       "    <tr>\n",
       "      <th>20057</th>\n",
       "      <td>True</td>\n",
       "      <td>78</td>\n",
       "      <td>mate</td>\n",
       "      <td>black</td>\n",
       "      <td>10+0</td>\n",
       "      <td>1235</td>\n",
       "      <td>1339</td>\n",
       "      <td>Queen's Pawn Game: Mason Attack</td>\n",
       "      <td>3</td>\n",
       "    </tr>\n",
       "  </tbody>\n",
       "</table>\n",
       "<p>20058 rows × 9 columns</p>\n",
       "</div>"
      ],
      "text/plain": [
       "       rated  turns victory_status winner increment_code  white_rating  \\\n",
       "0      False     13      outoftime  white           15+2          1500   \n",
       "1       True     16         resign  black           5+10          1322   \n",
       "2       True     61           mate  white           5+10          1496   \n",
       "3       True     61           mate  white           20+0          1439   \n",
       "4       True     95           mate  white           30+3          1523   \n",
       "...      ...    ...            ...    ...            ...           ...   \n",
       "20053   True     24         resign  white          10+10          1691   \n",
       "20054   True     82           mate  black           10+0          1233   \n",
       "20055   True     35           mate  white           10+0          1219   \n",
       "20056   True    109         resign  white           10+0          1360   \n",
       "20057   True     78           mate  black           10+0          1235   \n",
       "\n",
       "       black_rating                            opening_name  opening_ply  \n",
       "0              1191        Slav Defense: Exchange Variation            5  \n",
       "1              1261  Nimzowitsch Defense: Kennedy Variation            4  \n",
       "2              1500   King's Pawn Game: Leonardis Variation            3  \n",
       "3              1454  Queen's Pawn Game: Zukertort Variation            3  \n",
       "4              1469                        Philidor Defense            5  \n",
       "...             ...                                     ...          ...  \n",
       "20053          1220                           Dutch Defense            2  \n",
       "20054          1196                            Queen's Pawn            2  \n",
       "20055          1286         Queen's Pawn Game: Mason Attack            3  \n",
       "20056          1227                            Pirc Defense            4  \n",
       "20057          1339         Queen's Pawn Game: Mason Attack            3  \n",
       "\n",
       "[20058 rows x 9 columns]"
      ]
     },
     "execution_count": 9,
     "metadata": {},
     "output_type": "execute_result"
    }
   ],
   "source": [
    "dataSet"
   ]
  },
  {
   "cell_type": "markdown",
   "id": "74567c4e",
   "metadata": {},
   "source": [
    "20058 rows × 9 columns\n",
    "\n",
    "We see in the 'rated' column, some of the values are false, denoting some games played we unrated or casual games\n",
    "\n",
    "Let's have a look at the number of such values and compare them"
   ]
  },
  {
   "cell_type": "code",
   "execution_count": 10,
   "id": "5c9301db",
   "metadata": {},
   "outputs": [
    {
     "name": "stdout",
     "output_type": "stream",
     "text": [
      "Unrated games count:  3903\n",
      "rated games count:  16155\n"
     ]
    }
   ],
   "source": [
    "print('Unrated games count: ',dataSet[~dataSet['rated']]['rated'].count())\n",
    "print('rated games count: ',dataSet[dataSet['rated']]['rated'].count())"
   ]
  },
  {
   "cell_type": "markdown",
   "id": "ac5357c0",
   "metadata": {},
   "source": [
    "Unrated games count:  3903\n",
    "rated games count:  16155\n",
    "We observe that a significantly higher number of rated games are played as compared to casual or unrated games\n",
    "\n",
    "Hence, we can drop the rows with casual or unrated games"
   ]
  },
  {
   "cell_type": "code",
   "execution_count": 11,
   "id": "b5694e37",
   "metadata": {},
   "outputs": [
    {
     "data": {
      "text/plain": [
       "<Axes: >"
      ]
     },
     "execution_count": 11,
     "metadata": {},
     "output_type": "execute_result"
    },
    {
     "data": {
      "image/png": "[encoded data removed]",
      "text/plain": [
       "<Figure size 640x480 with 1 Axes>"
      ]
     },
     "metadata": {},
     "output_type": "display_data"
    }
   ],
   "source": [
    "casualCount = dataSet[~dataSet['rated']]['rated'].count()\n",
    "ratedCount = dataSet[dataSet['rated']]['rated'].count()\n",
    "nar=np.array(['Casual','Rated'])\n",
    "ar = np.array([casualCount,ratedCount])\n",
    "sns.barplot(x=ar,y=nar,hue=ar)"
   ]
  },
  {
   "cell_type": "markdown",
   "id": "d6802690",
   "metadata": {},
   "source": [
    "The above plot shows the number of games for each rated and unrated category"
   ]
  },
  {
   "cell_type": "code",
   "execution_count": 12,
   "id": "80754541",
   "metadata": {},
   "outputs": [],
   "source": [
    "dataSet = dataSet[dataSet['rated']]"
   ]
  },
  {
   "cell_type": "markdown",
   "id": "2f7de8d7",
   "metadata": {},
   "source": [
    "Removing the casual games from the dataSet as they are not much relevant"
   ]
  },
  {
   "cell_type": "code",
   "execution_count": 13,
   "id": "4cfb52e5",
   "metadata": {},
   "outputs": [
    {
     "data": {
      "text/html": [
       "<div>\n",
       "<style scoped>\n",
       "    .dataframe tbody tr th:only-of-type {\n",
       "        vertical-align: middle;\n",
       "    }\n",
       "\n",
       "    .dataframe tbody tr th {\n",
       "        vertical-align: top;\n",
       "    }\n",
       "\n",
       "    .dataframe thead th {\n",
       "        text-align: right;\n",
       "    }\n",
       "</style>\n",
       "<table border=\"1\" class=\"dataframe\">\n",
       "  <thead>\n",
       "    <tr style=\"text-align: right;\">\n",
       "      <th></th>\n",
       "      <th>rated</th>\n",
       "      <th>turns</th>\n",
       "      <th>victory_status</th>\n",
       "      <th>winner</th>\n",
       "      <th>increment_code</th>\n",
       "      <th>white_rating</th>\n",
       "      <th>black_rating</th>\n",
       "      <th>opening_name</th>\n",
       "      <th>opening_ply</th>\n",
       "    </tr>\n",
       "  </thead>\n",
       "  <tbody>\n",
       "    <tr>\n",
       "      <th>1</th>\n",
       "      <td>True</td>\n",
       "      <td>16</td>\n",
       "      <td>resign</td>\n",
       "      <td>black</td>\n",
       "      <td>5+10</td>\n",
       "      <td>1322</td>\n",
       "      <td>1261</td>\n",
       "      <td>Nimzowitsch Defense: Kennedy Variation</td>\n",
       "      <td>4</td>\n",
       "    </tr>\n",
       "    <tr>\n",
       "      <th>2</th>\n",
       "      <td>True</td>\n",
       "      <td>61</td>\n",
       "      <td>mate</td>\n",
       "      <td>white</td>\n",
       "      <td>5+10</td>\n",
       "      <td>1496</td>\n",
       "      <td>1500</td>\n",
       "      <td>King's Pawn Game: Leonardis Variation</td>\n",
       "      <td>3</td>\n",
       "    </tr>\n",
       "    <tr>\n",
       "      <th>3</th>\n",
       "      <td>True</td>\n",
       "      <td>61</td>\n",
       "      <td>mate</td>\n",
       "      <td>white</td>\n",
       "      <td>20+0</td>\n",
       "      <td>1439</td>\n",
       "      <td>1454</td>\n",
       "      <td>Queen's Pawn Game: Zukertort Variation</td>\n",
       "      <td>3</td>\n",
       "    </tr>\n",
       "    <tr>\n",
       "      <th>4</th>\n",
       "      <td>True</td>\n",
       "      <td>95</td>\n",
       "      <td>mate</td>\n",
       "      <td>white</td>\n",
       "      <td>30+3</td>\n",
       "      <td>1523</td>\n",
       "      <td>1469</td>\n",
       "      <td>Philidor Defense</td>\n",
       "      <td>5</td>\n",
       "    </tr>\n",
       "    <tr>\n",
       "      <th>6</th>\n",
       "      <td>True</td>\n",
       "      <td>33</td>\n",
       "      <td>resign</td>\n",
       "      <td>white</td>\n",
       "      <td>10+0</td>\n",
       "      <td>1520</td>\n",
       "      <td>1423</td>\n",
       "      <td>Blackmar-Diemer Gambit: Pietrowsky Defense</td>\n",
       "      <td>10</td>\n",
       "    </tr>\n",
       "  </tbody>\n",
       "</table>\n",
       "</div>"
      ],
      "text/plain": [
       "   rated  turns victory_status winner increment_code  white_rating  \\\n",
       "1   True     16         resign  black           5+10          1322   \n",
       "2   True     61           mate  white           5+10          1496   \n",
       "3   True     61           mate  white           20+0          1439   \n",
       "4   True     95           mate  white           30+3          1523   \n",
       "6   True     33         resign  white           10+0          1520   \n",
       "\n",
       "   black_rating                                opening_name  opening_ply  \n",
       "1          1261      Nimzowitsch Defense: Kennedy Variation            4  \n",
       "2          1500       King's Pawn Game: Leonardis Variation            3  \n",
       "3          1454      Queen's Pawn Game: Zukertort Variation            3  \n",
       "4          1469                            Philidor Defense            5  \n",
       "6          1423  Blackmar-Diemer Gambit: Pietrowsky Defense           10  "
      ]
     },
     "execution_count": 13,
     "metadata": {},
     "output_type": "execute_result"
    }
   ],
   "source": [
    "dataSet.head()"
   ]
  },
  {
   "cell_type": "markdown",
   "id": "78b31ea6",
   "metadata": {},
   "source": [
    "Let's find out the distribution of the victory_status"
   ]
  },
  {
   "cell_type": "code",
   "execution_count": 14,
   "id": "01a3deb3",
   "metadata": {},
   "outputs": [
    {
     "data": {
      "text/plain": [
       "victory_status\n",
       "resign       8969\n",
       "mate         5146\n",
       "outoftime    1359\n",
       "draw          681\n",
       "Name: rated, dtype: int64"
      ]
     },
     "execution_count": 14,
     "metadata": {},
     "output_type": "execute_result"
    }
   ],
   "source": [
    "dataSet.groupby(['victory_status'])['rated'].count().sort_values(ascending=False)"
   ]
  },
  {
   "cell_type": "markdown",
   "id": "59fbdc59",
   "metadata": {},
   "source": [
    "By observing the count of values for each type of victory_status, we see most of the match results ended by resignation, followed by checkmate, followeed by timeout and finally draw"
   ]
  },
  {
   "cell_type": "code",
   "execution_count": 15,
   "id": "67ea9b1c",
   "metadata": {},
   "outputs": [
    {
     "data": {
      "text/plain": [
       "<Axes: >"
      ]
     },
     "execution_count": 15,
     "metadata": {},
     "output_type": "execute_result"
    },
    {
     "data": {
      "image/png": "[encoded data removed]",
      "text/plain": [
       "<Figure size 640x480 with 1 Axes>"
      ]
     },
     "metadata": {},
     "output_type": "display_data"
    }
   ],
   "source": [
    "resign = dataSet[dataSet['victory_status'] == 'resign']['rated'].count()\n",
    "mate = dataSet[dataSet['victory_status'] == 'mate']['rated'].count()\n",
    "outoftime = dataSet[dataSet['victory_status'] == 'outoftime']['rated'].count()\n",
    "draw = dataSet[dataSet['victory_status'] == 'draw']['rated'].count()\n",
    "\n",
    "victoryCounts = np.array([resign,mate,outoftime,draw])\n",
    "victoryTypes = np.array(['resign','mate','outoftime','draw'])\n",
    "\n",
    "sns.barplot(x = victoryTypes,y = victoryCounts, hue = victoryCounts)"
   ]
  },
  {
   "cell_type": "markdown",
   "id": "91a9338f",
   "metadata": {},
   "source": [
    "Let's now take a look at the data in the 'turns' column"
   ]
  },
  {
   "cell_type": "code",
   "execution_count": 16,
   "id": "3fec5f2b",
   "metadata": {},
   "outputs": [
    {
     "data": {
      "text/plain": [
       "count    16155.000000\n",
       "mean        61.962550\n",
       "std         33.732775\n",
       "min          1.000000\n",
       "25%         39.000000\n",
       "50%         57.000000\n",
       "75%         80.000000\n",
       "max        349.000000\n",
       "Name: turns, dtype: float64"
      ]
     },
     "execution_count": 16,
     "metadata": {},
     "output_type": "execute_result"
    }
   ],
   "source": [
    "dataSet['turns'].describe()"
   ]
  },
  {
   "cell_type": "markdown",
   "id": "36df7ffa",
   "metadata": {},
   "source": [
    "We see that the average number of moves played per game is approximately equal to 62"
   ]
  },
  {
   "cell_type": "code",
   "execution_count": 17,
   "id": "5e5e604b",
   "metadata": {},
   "outputs": [
    {
     "data": {
      "text/plain": [
       "winner\n",
       "black    7384\n",
       "draw      719\n",
       "white    8052\n",
       "Name: rated, dtype: int64"
      ]
     },
     "execution_count": 17,
     "metadata": {},
     "output_type": "execute_result"
    }
   ],
   "source": [
    "dataSet.groupby(['winner'])['rated'].count()"
   ]
  },
  {
   "cell_type": "code",
   "execution_count": 18,
   "id": "e412d27d",
   "metadata": {},
   "outputs": [
    {
     "data": {
      "text/plain": [
       "<Axes: >"
      ]
     },
     "execution_count": 18,
     "metadata": {},
     "output_type": "execute_result"
    },
    {
     "data": {
      "image/png": "[encoded data removed]",
      "text/plain": [
       "<Figure size 640x480 with 1 Axes>"
      ]
     },
     "metadata": {},
     "output_type": "display_data"
    }
   ],
   "source": [
    "temp = dataSet['winner'].unique()\n",
    "values = []\n",
    "for string in temp:\n",
    "    values.append(dataSet[dataSet['winner'] == string]['rated'].count())\n",
    "\n",
    "sns.barplot(x = temp, y = values, hue = values)"
   ]
  },
  {
   "cell_type": "markdown",
   "id": "69939b9c",
   "metadata": {},
   "source": [
    "From the above bar plot we can observe that white wins more than black but the difference is not very large\n",
    "\n",
    "Also, most of the games generate a result,i.e, very few games are drawn"
   ]
  },
  {
   "cell_type": "code",
   "execution_count": 19,
   "id": "74303339",
   "metadata": {},
   "outputs": [
    {
     "data": {
      "text/html": [
       "<div>\n",
       "<style scoped>\n",
       "    .dataframe tbody tr th:only-of-type {\n",
       "        vertical-align: middle;\n",
       "    }\n",
       "\n",
       "    .dataframe tbody tr th {\n",
       "        vertical-align: top;\n",
       "    }\n",
       "\n",
       "    .dataframe thead th {\n",
       "        text-align: right;\n",
       "    }\n",
       "</style>\n",
       "<table border=\"1\" class=\"dataframe\">\n",
       "  <thead>\n",
       "    <tr style=\"text-align: right;\">\n",
       "      <th></th>\n",
       "      <th>rated</th>\n",
       "      <th>turns</th>\n",
       "      <th>victory_status</th>\n",
       "      <th>winner</th>\n",
       "      <th>time_control</th>\n",
       "      <th>white_rating</th>\n",
       "      <th>black_rating</th>\n",
       "      <th>opening_name</th>\n",
       "      <th>opening_ply</th>\n",
       "    </tr>\n",
       "  </thead>\n",
       "  <tbody>\n",
       "    <tr>\n",
       "      <th>1</th>\n",
       "      <td>True</td>\n",
       "      <td>16</td>\n",
       "      <td>resign</td>\n",
       "      <td>black</td>\n",
       "      <td>5+10</td>\n",
       "      <td>1322</td>\n",
       "      <td>1261</td>\n",
       "      <td>Nimzowitsch Defense: Kennedy Variation</td>\n",
       "      <td>4</td>\n",
       "    </tr>\n",
       "    <tr>\n",
       "      <th>2</th>\n",
       "      <td>True</td>\n",
       "      <td>61</td>\n",
       "      <td>mate</td>\n",
       "      <td>white</td>\n",
       "      <td>5+10</td>\n",
       "      <td>1496</td>\n",
       "      <td>1500</td>\n",
       "      <td>King's Pawn Game: Leonardis Variation</td>\n",
       "      <td>3</td>\n",
       "    </tr>\n",
       "    <tr>\n",
       "      <th>3</th>\n",
       "      <td>True</td>\n",
       "      <td>61</td>\n",
       "      <td>mate</td>\n",
       "      <td>white</td>\n",
       "      <td>20+0</td>\n",
       "      <td>1439</td>\n",
       "      <td>1454</td>\n",
       "      <td>Queen's Pawn Game: Zukertort Variation</td>\n",
       "      <td>3</td>\n",
       "    </tr>\n",
       "    <tr>\n",
       "      <th>4</th>\n",
       "      <td>True</td>\n",
       "      <td>95</td>\n",
       "      <td>mate</td>\n",
       "      <td>white</td>\n",
       "      <td>30+3</td>\n",
       "      <td>1523</td>\n",
       "      <td>1469</td>\n",
       "      <td>Philidor Defense</td>\n",
       "      <td>5</td>\n",
       "    </tr>\n",
       "    <tr>\n",
       "      <th>6</th>\n",
       "      <td>True</td>\n",
       "      <td>33</td>\n",
       "      <td>resign</td>\n",
       "      <td>white</td>\n",
       "      <td>10+0</td>\n",
       "      <td>1520</td>\n",
       "      <td>1423</td>\n",
       "      <td>Blackmar-Diemer Gambit: Pietrowsky Defense</td>\n",
       "      <td>10</td>\n",
       "    </tr>\n",
       "    <tr>\n",
       "      <th>...</th>\n",
       "      <td>...</td>\n",
       "      <td>...</td>\n",
       "      <td>...</td>\n",
       "      <td>...</td>\n",
       "      <td>...</td>\n",
       "      <td>...</td>\n",
       "      <td>...</td>\n",
       "      <td>...</td>\n",
       "      <td>...</td>\n",
       "    </tr>\n",
       "    <tr>\n",
       "      <th>20053</th>\n",
       "      <td>True</td>\n",
       "      <td>24</td>\n",
       "      <td>resign</td>\n",
       "      <td>white</td>\n",
       "      <td>10+10</td>\n",
       "      <td>1691</td>\n",
       "      <td>1220</td>\n",
       "      <td>Dutch Defense</td>\n",
       "      <td>2</td>\n",
       "    </tr>\n",
       "    <tr>\n",
       "      <th>20054</th>\n",
       "      <td>True</td>\n",
       "      <td>82</td>\n",
       "      <td>mate</td>\n",
       "      <td>black</td>\n",
       "      <td>10+0</td>\n",
       "      <td>1233</td>\n",
       "      <td>1196</td>\n",
       "      <td>Queen's Pawn</td>\n",
       "      <td>2</td>\n",
       "    </tr>\n",
       "    <tr>\n",
       "      <th>20055</th>\n",
       "      <td>True</td>\n",
       "      <td>35</td>\n",
       "      <td>mate</td>\n",
       "      <td>white</td>\n",
       "      <td>10+0</td>\n",
       "      <td>1219</td>\n",
       "      <td>1286</td>\n",
       "      <td>Queen's Pawn Game: Mason Attack</td>\n",
       "      <td>3</td>\n",
       "    </tr>\n",
       "    <tr>\n",
       "      <th>20056</th>\n",
       "      <td>True</td>\n",
       "      <td>109</td>\n",
       "      <td>resign</td>\n",
       "      <td>white</td>\n",
       "      <td>10+0</td>\n",
       "      <td>1360</td>\n",
       "      <td>1227</td>\n",
       "      <td>Pirc Defense</td>\n",
       "      <td>4</td>\n",
       "    </tr>\n",
       "    <tr>\n",
       "      <th>20057</th>\n",
       "      <td>True</td>\n",
       "      <td>78</td>\n",
       "      <td>mate</td>\n",
       "      <td>black</td>\n",
       "      <td>10+0</td>\n",
       "      <td>1235</td>\n",
       "      <td>1339</td>\n",
       "      <td>Queen's Pawn Game: Mason Attack</td>\n",
       "      <td>3</td>\n",
       "    </tr>\n",
       "  </tbody>\n",
       "</table>\n",
       "<p>16155 rows × 9 columns</p>\n",
       "</div>"
      ],
      "text/plain": [
       "       rated  turns victory_status winner time_control  white_rating  \\\n",
       "1       True     16         resign  black         5+10          1322   \n",
       "2       True     61           mate  white         5+10          1496   \n",
       "3       True     61           mate  white         20+0          1439   \n",
       "4       True     95           mate  white         30+3          1523   \n",
       "6       True     33         resign  white         10+0          1520   \n",
       "...      ...    ...            ...    ...          ...           ...   \n",
       "20053   True     24         resign  white        10+10          1691   \n",
       "20054   True     82           mate  black         10+0          1233   \n",
       "20055   True     35           mate  white         10+0          1219   \n",
       "20056   True    109         resign  white         10+0          1360   \n",
       "20057   True     78           mate  black         10+0          1235   \n",
       "\n",
       "       black_rating                                opening_name  opening_ply  \n",
       "1              1261      Nimzowitsch Defense: Kennedy Variation            4  \n",
       "2              1500       King's Pawn Game: Leonardis Variation            3  \n",
       "3              1454      Queen's Pawn Game: Zukertort Variation            3  \n",
       "4              1469                            Philidor Defense            5  \n",
       "6              1423  Blackmar-Diemer Gambit: Pietrowsky Defense           10  \n",
       "...             ...                                         ...          ...  \n",
       "20053          1220                               Dutch Defense            2  \n",
       "20054          1196                                Queen's Pawn            2  \n",
       "20055          1286             Queen's Pawn Game: Mason Attack            3  \n",
       "20056          1227                                Pirc Defense            4  \n",
       "20057          1339             Queen's Pawn Game: Mason Attack            3  \n",
       "\n",
       "[16155 rows x 9 columns]"
      ]
     },
     "execution_count": 19,
     "metadata": {},
     "output_type": "execute_result"
    }
   ],
   "source": [
    "dataSet = dataSet.rename(columns={'increment_code':'time_control'})\n",
    "dataSet"
   ]
  },
  {
   "cell_type": "code",
   "execution_count": 20,
   "id": "71c32195",
   "metadata": {},
   "outputs": [
    {
     "data": {
      "text/plain": [
       "time_control\n",
       "10+0     6817\n",
       "15+0      961\n",
       "15+15     722\n",
       "5+5       570\n",
       "5+8       523\n",
       "8+0       506\n",
       "10+5      434\n",
       "15+10     351\n",
       "20+0      291\n",
       "10+10     255\n",
       "Name: rated, dtype: int64"
      ]
     },
     "execution_count": 20,
     "metadata": {},
     "output_type": "execute_result"
    }
   ],
   "source": [
    "dataSet.groupby(['time_control'])['rated'].count().sort_values(ascending=False).head(10)"
   ]
  },
  {
   "cell_type": "markdown",
   "id": "c573e364",
   "metadata": {},
   "source": [
    "From the above data count, we observe that '10 + 0' is the most played time control by users\n",
    "\n",
    "Looking at the top 10 time controls played by the users, we observe that users tend to like to play shorter time format (mostly rapid time format)\n",
    "\n",
    "Next, let's have a look at the column white_rating\n",
    "\n",
    "We see a sudden spike in the plot at around 1500 rating mark\n",
    "\n",
    "Let's see if such is the case with black_rating as well"
   ]
  },
  {
   "cell_type": "code",
   "execution_count": 21,
   "id": "49f727e0",
   "metadata": {},
   "outputs": [
    {
     "data": {
      "text/plain": [
       "<seaborn.axisgrid.FacetGrid at 0x2811b2554b0>"
      ]
     },
     "execution_count": 21,
     "metadata": {},
     "output_type": "execute_result"
    },
    {
     "data": {
      "image/png": "[encoded data removed]",
      "text/plain": [
       "<Figure size 500x500 with 1 Axes>"
      ]
     },
     "metadata": {},
     "output_type": "display_data"
    },
    {
     "data": {
      "image/png": "[encoded data removed]",
      "text/plain": [
       "<Figure size 500x500 with 1 Axes>"
      ]
     },
     "metadata": {},
     "output_type": "display_data"
    }
   ],
   "source": [
    "sns.displot(data=dataSet['black_rating'],bins = 100,color='blue')\n",
    "sns.displot(data=dataSet['white_rating'],bins = 100,color='green')"
   ]
  },
  {
   "cell_type": "markdown",
   "id": "cebf92a9",
   "metadata": {},
   "source": [
    "The rating distribution seems similar in both white_rating and black_rating\n",
    "\n",
    "In both the plots, we observe a sudden spike in plot\n",
    "\n",
    "let's find out the numbers in both cases"
   ]
  },
  {
   "cell_type": "code",
   "execution_count": 22,
   "id": "e8d6239b",
   "metadata": {},
   "outputs": [
    {
     "data": {
      "text/plain": [
       "white_rating\n",
       "1500    244\n",
       "1696     39\n",
       "1383     37\n",
       "1547     33\n",
       "1453     32\n",
       "       ... \n",
       "2261      1\n",
       "915       1\n",
       "2124      1\n",
       "912       1\n",
       "2622      1\n",
       "Name: rated, Length: 1458, dtype: int64"
      ]
     },
     "execution_count": 22,
     "metadata": {},
     "output_type": "execute_result"
    }
   ],
   "source": [
    "dataSet.groupby(['white_rating'])['rated'].count().sort_values(ascending=False)"
   ]
  },
  {
   "cell_type": "markdown",
   "id": "12f77a72",
   "metadata": {},
   "source": [
    "We observe that a significantly large number of users are rated 1500\n",
    "\n",
    "Upon a little research, I found out that is the case because every user is given a default rating of 1500 upon creating a account in Lichess\n",
    "\n",
    "Hence, most of the player ratings are around 1500\n",
    "\n",
    "One more thing that can be seen is that the rating distribution is similar to a normal distribution (bell curve shape)"
   ]
  },
  {
   "cell_type": "code",
   "execution_count": 23,
   "id": "6adec0b3",
   "metadata": {},
   "outputs": [
    {
     "name": "stdout",
     "output_type": "stream",
     "text": [
      "White average rating:  1597.1020117610647\n",
      "Black average rating:  1593.5031878675334\n"
     ]
    }
   ],
   "source": [
    "print('White average rating: ',dataSet['white_rating'].mean())\n",
    "print('Black average rating: ',dataSet['black_rating'].mean())"
   ]
  },
  {
   "cell_type": "markdown",
   "id": "92c378c3",
   "metadata": {},
   "source": [
    "Upon comparing the average rating of black and white, we see that there is not a significant difference between them, despite of that the wins scored by white is much more compared to that of black.\n",
    "\n",
    "This could imply that white may have some advantage over black. This could be in terms of average rating or just by the nature of the game.\n",
    "\n",
    "Let's now have a look at the openings played by different players"
   ]
  },
  {
   "cell_type": "code",
   "execution_count": 24,
   "id": "41aaacdd",
   "metadata": {},
   "outputs": [
    {
     "data": {
      "text/plain": [
       "array(['Nimzowitsch Defense: Kennedy Variation',\n",
       "       \"King's Pawn Game: Leonardis Variation\",\n",
       "       \"Queen's Pawn Game: Zukertort Variation\", ...,\n",
       "       \"Queen's Indian Defense: Classical Variation |  Traditional Variation\",\n",
       "       \"Queen's Gambit Declined: Slav |  Dutch Variation\",\n",
       "       'Sicilian Defense: Najdorf Variation |  Polugaevsky Variation'],\n",
       "      dtype=object)"
      ]
     },
     "execution_count": 24,
     "metadata": {},
     "output_type": "execute_result"
    }
   ],
   "source": [
    "dataSet['opening_name'].unique()"
   ]
  },
  {
   "cell_type": "markdown",
   "id": "2f671c07",
   "metadata": {},
   "source": [
    "Let's find out the top 10 openings played by the players"
   ]
  },
  {
   "cell_type": "code",
   "execution_count": 25,
   "id": "212a7830",
   "metadata": {},
   "outputs": [
    {
     "data": {
      "text/plain": [
       "opening_name\n",
       "Van't Kruijs Opening                             308\n",
       "Sicilian Defense                                 283\n",
       "Sicilian Defense: Bowdler Attack                 248\n",
       "French Defense: Knight Variation                 229\n",
       "Scotch Game                                      219\n",
       "Scandinavian Defense: Mieses-Kotroc Variation    207\n",
       "Queen's Pawn Game: Mason Attack                  187\n",
       "Scandinavian Defense                             186\n",
       "Horwitz Defense                                  184\n",
       "Queen's Pawn Game: Chigorin Variation            180\n",
       "Name: rated, dtype: int64"
      ]
     },
     "execution_count": 25,
     "metadata": {},
     "output_type": "execute_result"
    }
   ],
   "source": [
    "dataSet.groupby(['opening_name'])['rated'].count().sort_values(ascending=False).head(10)"
   ]
  },
  {
   "cell_type": "code",
   "execution_count": 26,
   "id": "3df8c72e",
   "metadata": {},
   "outputs": [
    {
     "name": "stderr",
     "output_type": "stream",
     "text": [
      "C:\\Users\\idofg\\AppData\\Local\\Temp\\ipykernel_18592\\2764850936.py:1: FutureWarning: The default value of numeric_only in DataFrame.corr is deprecated. In a future version, it will default to False. Select only valid columns or specify the value of numeric_only to silence this warning.\n",
      "  dataSet.corr()\n"
     ]
    },
    {
     "data": {
      "text/html": [
       "<div>\n",
       "<style scoped>\n",
       "    .dataframe tbody tr th:only-of-type {\n",
       "        vertical-align: middle;\n",
       "    }\n",
       "\n",
       "    .dataframe tbody tr th {\n",
       "        vertical-align: top;\n",
       "    }\n",
       "\n",
       "    .dataframe thead th {\n",
       "        text-align: right;\n",
       "    }\n",
       "</style>\n",
       "<table border=\"1\" class=\"dataframe\">\n",
       "  <thead>\n",
       "    <tr style=\"text-align: right;\">\n",
       "      <th></th>\n",
       "      <th>rated</th>\n",
       "      <th>turns</th>\n",
       "      <th>white_rating</th>\n",
       "      <th>black_rating</th>\n",
       "      <th>opening_ply</th>\n",
       "    </tr>\n",
       "  </thead>\n",
       "  <tbody>\n",
       "    <tr>\n",
       "      <th>rated</th>\n",
       "      <td>NaN</td>\n",
       "      <td>NaN</td>\n",
       "      <td>NaN</td>\n",
       "      <td>NaN</td>\n",
       "      <td>NaN</td>\n",
       "    </tr>\n",
       "    <tr>\n",
       "      <th>turns</th>\n",
       "      <td>NaN</td>\n",
       "      <td>1.000000</td>\n",
       "      <td>0.147811</td>\n",
       "      <td>0.170288</td>\n",
       "      <td>0.055174</td>\n",
       "    </tr>\n",
       "    <tr>\n",
       "      <th>white_rating</th>\n",
       "      <td>NaN</td>\n",
       "      <td>0.147811</td>\n",
       "      <td>1.000000</td>\n",
       "      <td>0.709764</td>\n",
       "      <td>0.285029</td>\n",
       "    </tr>\n",
       "    <tr>\n",
       "      <th>black_rating</th>\n",
       "      <td>NaN</td>\n",
       "      <td>0.170288</td>\n",
       "      <td>0.709764</td>\n",
       "      <td>1.000000</td>\n",
       "      <td>0.271603</td>\n",
       "    </tr>\n",
       "    <tr>\n",
       "      <th>opening_ply</th>\n",
       "      <td>NaN</td>\n",
       "      <td>0.055174</td>\n",
       "      <td>0.285029</td>\n",
       "      <td>0.271603</td>\n",
       "      <td>1.000000</td>\n",
       "    </tr>\n",
       "  </tbody>\n",
       "</table>\n",
       "</div>"
      ],
      "text/plain": [
       "              rated     turns  white_rating  black_rating  opening_ply\n",
       "rated           NaN       NaN           NaN           NaN          NaN\n",
       "turns           NaN  1.000000      0.147811      0.170288     0.055174\n",
       "white_rating    NaN  0.147811      1.000000      0.709764     0.285029\n",
       "black_rating    NaN  0.170288      0.709764      1.000000     0.271603\n",
       "opening_ply     NaN  0.055174      0.285029      0.271603     1.000000"
      ]
     },
     "execution_count": 26,
     "metadata": {},
     "output_type": "execute_result"
    }
   ],
   "source": [
    "dataSet.corr()"
   ]
  },
  {
   "cell_type": "markdown",
   "id": "2c86cb67",
   "metadata": {},
   "source": [
    "We see a pretty good correlation between white_rating and black_rating\n",
    "\n",
    "This indicates that players paired by the server are closely rated\n",
    "\n",
    "Following conclusions can be made from the above analysis:\n",
    "\n",
    "1.Most of the people who play chess on Lichess like to play rated more than casual games\n",
    "2.Average number of moves played per game is 62\n",
    "3.White wins more games than Black in general\n",
    "4.10 + 0 is the most popular time control among players\n",
    "5.The player ratings follow a bell-curve shape(normal distribution)\n",
    "6.Most of the players rating lies in the range 1300-1600, hence most chess courses should target the players in this range and below this range\n",
    "7.Van't Kruijs ,Sicilian Defense, French Defense are the most played openings, hence courses can target these openings in particular\n",
    "8.The players on the website are paired closely to their ratings by the server"
   ]
  }
 ],
 "metadata": {
  "kernelspec": {
   "display_name": "Python 3 (ipykernel)",
   "language": "python",
   "name": "python3"
  },
  "language_info": {
   "codemirror_mode": {
    "name": "ipython",
    "version": 3
   },
   "file_extension": ".py",
   "mimetype": "text/x-python",
   "name": "python",
   "nbconvert_exporter": "python",
   "pygments_lexer": "ipython3",
   "version": "3.10.9"
  }
 },
 "nbformat": 4,
 "nbformat_minor": 5
}
